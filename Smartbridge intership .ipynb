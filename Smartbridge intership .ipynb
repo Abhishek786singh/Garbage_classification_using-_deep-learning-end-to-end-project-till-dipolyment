{
 "cells": [
  {
   "cell_type": "code",
   "execution_count": 2,
   "metadata": {},
   "outputs": [],
   "source": [
    "import tensorflow as tf\n",
    "import numpy as np\n",
    "import pandas as pd\n",
    "import matplotlib.pyplot  as plt\n",
    "import seaborn as sns\n"
   ]
  },
  {
   "cell_type": "code",
   "execution_count": 3,
   "metadata": {},
   "outputs": [],
   "source": [
    "data=\"C:/Users/User/Desktop/ML hub/Challange/Garbage classification/Garbage classification\""
   ]
  },
  {
   "cell_type": "code",
   "execution_count": 4,
   "metadata": {},
   "outputs": [
    {
     "name": "stderr",
     "output_type": "stream",
     "text": [
      "Using TensorFlow backend.\n"
     ]
    }
   ],
   "source": [
    "\n",
    "from keras.preprocessing.image import ImageDataGenerator, load_img, img_to_array, array_to_img\n"
   ]
  },
  {
   "cell_type": "code",
   "execution_count": 5,
   "metadata": {},
   "outputs": [
    {
     "name": "stdout",
     "output_type": "stream",
     "text": [
      "Found 2276 images belonging to 6 classes.\n",
      "Found 251 images belonging to 6 classes.\n",
      "{0: 'cardboard', 1: 'glass', 2: 'metal', 3: 'paper', 4: 'plastic', 5: 'trash'}\n"
     ]
    }
   ],
   "source": [
    "batch_size = 32\n",
    "# Data Generator\n",
    "train=ImageDataGenerator(horizontal_flip=True, vertical_flip=True,validation_split=0.1,rescale=1./255,\n",
    "                         shear_range = 0.1,zoom_range = 0.1,\n",
    "                         width_shift_range = 0.1,\n",
    "                         height_shift_range = 0.1,)\n",
    "\n",
    "test=ImageDataGenerator(rescale=1./255,validation_split=0.1)\n",
    "\n",
    "train_generator=train.flow_from_directory(data,target_size=(300,300),batch_size=batch_size,class_mode='categorical',subset='training')\n",
    "\n",
    "test_generator=test.flow_from_directory(data,target_size=(300,300),batch_size=batch_size,class_mode='categorical',subset='validation')\n",
    "labels = (train_generator.class_indices)\n",
    "labels = dict((v,k) for k,v in labels.items())\n",
    "print(labels)"
   ]
  },
  {
   "cell_type": "markdown",
   "metadata": {},
   "source": [
    "## Importing the model building libraries"
   ]
  },
  {
   "cell_type": "code",
   "execution_count": 6,
   "metadata": {},
   "outputs": [],
   "source": [
    "import tensorflow as tf\n",
    "import tensorflow.keras as keras\n",
    "from tensorflow.keras.callbacks import ModelCheckpoint\n",
    "from tensorflow.keras.layers import Conv2D, Flatten, MaxPooling2D,Dense,Dropout\n",
    "from tensorflow.keras.models  import Sequential"
   ]
  },
  {
   "cell_type": "markdown",
   "metadata": {},
   "source": [
    "## Initializing the model"
   ]
  },
  {
   "cell_type": "code",
   "execution_count": 7,
   "metadata": {},
   "outputs": [
    {
     "name": "stderr",
     "output_type": "stream",
     "text": [
      "WARNING: Logging before flag parsing goes to stderr.\n",
      "W0613 09:31:46.366810 21444 deprecation.py:506] From C:\\Users\\User\\Anaconda3\\envs\\tensorenv\\lib\\site-packages\\tensorflow\\python\\ops\\init_ops.py:1251: calling VarianceScaling.__init__ (from tensorflow.python.ops.init_ops) with dtype is deprecated and will be removed in a future version.\n",
      "Instructions for updating:\n",
      "Call initializer instance with the dtype argument instead of passing it to the constructor\n"
     ]
    },
    {
     "name": "stdout",
     "output_type": "stream",
     "text": [
      "Model: \"sequential\"\n",
      "_________________________________________________________________\n",
      "Layer (type)                 Output Shape              Param #   \n",
      "=================================================================\n",
      "conv2d (Conv2D)              (None, 300, 300, 32)      896       \n",
      "_________________________________________________________________\n",
      "max_pooling2d (MaxPooling2D) (None, 150, 150, 32)      0         \n",
      "_________________________________________________________________\n",
      "conv2d_1 (Conv2D)            (None, 150, 150, 64)      18496     \n",
      "_________________________________________________________________\n",
      "max_pooling2d_1 (MaxPooling2 (None, 75, 75, 64)        0         \n",
      "_________________________________________________________________\n",
      "conv2d_2 (Conv2D)            (None, 75, 75, 32)        18464     \n",
      "_________________________________________________________________\n",
      "max_pooling2d_2 (MaxPooling2 (None, 37, 37, 32)        0         \n",
      "_________________________________________________________________\n",
      "flatten (Flatten)            (None, 43808)             0         \n",
      "_________________________________________________________________\n",
      "dense (Dense)                (None, 64)                2803776   \n",
      "_________________________________________________________________\n",
      "dropout (Dropout)            (None, 64)                0         \n",
      "_________________________________________________________________\n",
      "dense_1 (Dense)              (None, 6)                 390       \n",
      "=================================================================\n",
      "Total params: 2,842,022\n",
      "Trainable params: 2,842,022\n",
      "Non-trainable params: 0\n",
      "_________________________________________________________________\n"
     ]
    }
   ],
   "source": [
    "num_classes = 6\n",
    "model = Sequential()\n",
    "   \n",
    "model.add(Conv2D(32,(3,3), padding='same', input_shape=(300,300,3),activation='relu'))\n",
    "model.add(MaxPooling2D(pool_size=(2,2))) \n",
    "model.add(Conv2D(64,(3,3), padding='same', activation='relu'))\n",
    "model.add(MaxPooling2D(pool_size=(2,2))) \n",
    "model.add(Conv2D(32,(3,3), padding='same', activation='relu'))\n",
    "model.add(MaxPooling2D(pool_size=(2,2))) \n",
    "model.add(Flatten())\n",
    "model.add(Dense(64,activation='relu'))\n",
    "model.add(Dropout(0.5))\n",
    "model.add(Dense(num_classes,activation='softmax'))\n",
    "\n",
    "model.summary()"
   ]
  },
  {
   "cell_type": "code",
   "execution_count": 8,
   "metadata": {},
   "outputs": [],
   "source": [
    "# Compile Model\n",
    "model.compile(loss='categorical_crossentropy', optimizer='adam', metrics=['accuracy'])"
   ]
  },
  {
   "cell_type": "markdown",
   "metadata": {},
   "source": [
    "## Loading The Prepocessed Data"
   ]
  },
  {
   "cell_type": "code",
   "execution_count": 9,
   "metadata": {},
   "outputs": [],
   "source": [
    "model_path=\"garbage_cnn.h5\"\n",
    "checkpoint1 = ModelCheckpoint(model_path, monitor='val_accuracy', verbose=1, save_best_only=True, mode='max')\n",
    "callbacks_list = [checkpoint1]"
   ]
  },
  {
   "cell_type": "code",
   "execution_count": 10,
   "metadata": {},
   "outputs": [],
   "source": [
    "## I am runing this just 10 epochs for better run , it to more no."
   ]
  },
  {
   "cell_type": "code",
   "execution_count": 11,
   "metadata": {},
   "outputs": [],
   "source": [
    "num_epochs = 10\n",
    "step_size_train=train_generator.n//train_generator.batch_size\n",
    "step_size_test =test_generator.n//test_generator.batch_size"
   ]
  },
  {
   "cell_type": "code",
   "execution_count": 12,
   "metadata": {},
   "outputs": [
    {
     "name": "stdout",
     "output_type": "stream",
     "text": [
      "Epoch 1/10\n",
      "70/71 [============================>.] - ETA: 3s - loss: 1.7489 - acc: 0.2247"
     ]
    },
    {
     "name": "stderr",
     "output_type": "stream",
     "text": [
      "W0613 09:36:32.246150 21444 callbacks.py:989] Can save best model only with val_accuracy available, skipping.\n"
     ]
    },
    {
     "name": "stdout",
     "output_type": "stream",
     "text": [
      "71/71 [==============================] - 270s 4s/step - loss: 1.7465 - acc: 0.2255 - val_loss: 1.6873 - val_acc: 0.2054\n",
      "Epoch 2/10\n",
      "70/71 [============================>.] - ETA: 3s - loss: 1.5799 - acc: 0.3404"
     ]
    },
    {
     "name": "stderr",
     "output_type": "stream",
     "text": [
      "W0613 09:40:26.318884 21444 callbacks.py:989] Can save best model only with val_accuracy available, skipping.\n"
     ]
    },
    {
     "name": "stdout",
     "output_type": "stream",
     "text": [
      "71/71 [==============================] - 234s 3s/step - loss: 1.5834 - acc: 0.3396 - val_loss: 1.5267 - val_acc: 0.3259\n",
      "Epoch 3/10\n",
      "70/71 [============================>.] - ETA: 3s - loss: 1.4873 - acc: 0.3657"
     ]
    },
    {
     "name": "stderr",
     "output_type": "stream",
     "text": [
      "W0613 09:44:22.340907 21444 callbacks.py:989] Can save best model only with val_accuracy available, skipping.\n"
     ]
    },
    {
     "name": "stdout",
     "output_type": "stream",
     "text": [
      "71/71 [==============================] - 236s 3s/step - loss: 1.4915 - acc: 0.3654 - val_loss: 1.4287 - val_acc: 0.3929\n",
      "Epoch 4/10\n",
      "70/71 [============================>.] - ETA: 3s - loss: 1.4083 - acc: 0.4155"
     ]
    },
    {
     "name": "stderr",
     "output_type": "stream",
     "text": [
      "W0613 09:48:21.728745 21444 callbacks.py:989] Can save best model only with val_accuracy available, skipping.\n"
     ]
    },
    {
     "name": "stdout",
     "output_type": "stream",
     "text": [
      "71/71 [==============================] - 239s 3s/step - loss: 1.4092 - acc: 0.4153 - val_loss: 1.4282 - val_acc: 0.4375\n",
      "Epoch 5/10\n",
      "70/71 [============================>.] - ETA: 3s - loss: 1.3974 - acc: 0.4372"
     ]
    },
    {
     "name": "stderr",
     "output_type": "stream",
     "text": [
      "W0613 09:52:11.194304 21444 callbacks.py:989] Can save best model only with val_accuracy available, skipping.\n"
     ]
    },
    {
     "name": "stdout",
     "output_type": "stream",
     "text": [
      "71/71 [==============================] - 229s 3s/step - loss: 1.3950 - acc: 0.4403 - val_loss: 1.2979 - val_acc: 0.5000\n",
      "Epoch 6/10\n",
      "70/71 [============================>.] - ETA: 3s - loss: 1.3597 - acc: 0.4521"
     ]
    },
    {
     "name": "stderr",
     "output_type": "stream",
     "text": [
      "W0613 09:56:01.578256 21444 callbacks.py:989] Can save best model only with val_accuracy available, skipping.\n"
     ]
    },
    {
     "name": "stdout",
     "output_type": "stream",
     "text": [
      "71/71 [==============================] - 230s 3s/step - loss: 1.3589 - acc: 0.4528 - val_loss: 1.2667 - val_acc: 0.4866\n",
      "Epoch 7/10\n",
      "70/71 [============================>.] - ETA: 3s - loss: 1.3130 - acc: 0.4656"
     ]
    },
    {
     "name": "stderr",
     "output_type": "stream",
     "text": [
      "W0613 09:59:49.901802 21444 callbacks.py:989] Can save best model only with val_accuracy available, skipping.\n"
     ]
    },
    {
     "name": "stdout",
     "output_type": "stream",
     "text": [
      "71/71 [==============================] - 228s 3s/step - loss: 1.3144 - acc: 0.4652 - val_loss: 1.2143 - val_acc: 0.4821\n",
      "Epoch 8/10\n",
      "70/71 [============================>.] - ETA: 9s - loss: 1.3086 - acc: 0.4661 "
     ]
    },
    {
     "name": "stderr",
     "output_type": "stream",
     "text": [
      "W0613 10:10:50.831713 21444 callbacks.py:989] Can save best model only with val_accuracy available, skipping.\n"
     ]
    },
    {
     "name": "stdout",
     "output_type": "stream",
     "text": [
      "71/71 [==============================] - 661s 9s/step - loss: 1.3093 - acc: 0.4652 - val_loss: 1.2166 - val_acc: 0.5045\n",
      "Epoch 9/10\n",
      "70/71 [============================>.] - ETA: 4s - loss: 1.2968 - acc: 0.4873"
     ]
    },
    {
     "name": "stderr",
     "output_type": "stream",
     "text": [
      "W0613 10:16:34.031556 21444 callbacks.py:989] Can save best model only with val_accuracy available, skipping.\n"
     ]
    },
    {
     "name": "stdout",
     "output_type": "stream",
     "text": [
      "71/71 [==============================] - 343s 5s/step - loss: 1.2941 - acc: 0.4898 - val_loss: 1.3391 - val_acc: 0.4420\n",
      "Epoch 10/10\n",
      "70/71 [============================>.] - ETA: 3s - loss: 1.3430 - acc: 0.4706"
     ]
    },
    {
     "name": "stderr",
     "output_type": "stream",
     "text": [
      "W0613 10:21:21.817534 21444 callbacks.py:989] Can save best model only with val_accuracy available, skipping.\n"
     ]
    },
    {
     "name": "stdout",
     "output_type": "stream",
     "text": [
      "\b\b\b\b\b\b\b\b\b\b\b\b\b\b\b\b\b\b\b\b\b\b\b\b\b\b\b\b\b\b\b\b\b\b\b\b\b\b\b\b\b\b\b\b\b\b\b\b\b\b\b\b\b\b\b\b\b\b\b\b\b\b\b\b\b\b\b\b\b\b\b\b\b\b\b\b\b\r",
      "71/71 [==============================] - 287s 4s/step - loss: 1.3389 - acc: 0.4724 - val_loss: 1.2379 - val_acc: 0.5089\n"
     ]
    }
   ],
   "source": [
    "# Train Model\n",
    "history = model.fit_generator(train_generator, epochs=num_epochs, steps_per_epoch=step_size_train,validation_data=test_generator,\n",
    "                    validation_steps=step_size_test,callbacks=callbacks_list)"
   ]
  },
  {
   "cell_type": "code",
   "execution_count": 13,
   "metadata": {},
   "outputs": [
    {
     "name": "stdout",
     "output_type": "stream",
     "text": [
      "[1.2378820521490914, 0.5089286]\n"
     ]
    }
   ],
   "source": [
    "# Evaluation model\n",
    "score = model.evaluate_generator(test_generator, steps=step_size_test)\n",
    "print(score)\n"
   ]
  },
  {
   "cell_type": "code",
   "execution_count": null,
   "metadata": {},
   "outputs": [],
   "source": []
  }
 ],
 "metadata": {
  "kernelspec": {
   "display_name": "Python 3",
   "language": "python",
   "name": "python3"
  },
  "language_info": {
   "codemirror_mode": {
    "name": "ipython",
    "version": 3
   },
   "file_extension": ".py",
   "mimetype": "text/x-python",
   "name": "python",
   "nbconvert_exporter": "python",
   "pygments_lexer": "ipython3",
   "version": "3.7.3"
  }
 },
 "nbformat": 4,
 "nbformat_minor": 2
}
